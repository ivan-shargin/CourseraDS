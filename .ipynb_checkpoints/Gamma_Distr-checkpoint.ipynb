{
 "cells": [
  {
   "cell_type": "code",
   "execution_count": 3,
   "id": "74c48e04",
   "metadata": {},
   "outputs": [],
   "source": [
    "import numpy as np\n",
    "import scipy.stats as sts\n",
    "import matplotlib.pyplot as plt"
   ]
  },
  {
   "cell_type": "markdown",
   "id": "0c321f9f",
   "metadata": {},
   "source": [
    "# Гамма распределение."
   ]
  },
  {
   "cell_type": "markdown",
   "id": "d237aa9e",
   "metadata": {},
   "source": [
    "Гамма распределение имеет плотность f(x) = x^(a-1) * exp(-x)/Г(a), где a - параметр"
   ]
  },
  {
   "cell_type": "code",
   "execution_count": 5,
   "id": "93bd454a",
   "metadata": {},
   "outputs": [],
   "source": [
    "a = 2.5 # parameter of Gamma distribution\n",
    "gamma = sts.gamma(a)"
   ]
  },
  {
   "cell_type": "markdown",
   "id": "7f4c5a38",
   "metadata": {},
   "source": [
    "## 1. Выборка обьема 1000"
   ]
  },
  {
   "cell_type": "markdown",
   "id": "154bafcf",
   "metadata": {},
   "source": [
    " Сгенерируем выборку обьема 1000 из Гамма распределения"
   ]
  },
  {
   "cell_type": "code",
   "execution_count": 7,
   "id": "058239dd",
   "metadata": {},
   "outputs": [],
   "source": [
    "sample = gamma.rvs(1000)"
   ]
  },
  {
   "cell_type": "markdown",
   "id": "42cceb14",
   "metadata": {},
   "source": [
    "Гистограмма для выборки и теоретическая плотность"
   ]
  },
  {
   "cell_type": "code",
   "execution_count": 19,
   "id": "8de28d65",
   "metadata": {},
   "outputs": [
    {
     "data": {
      "text/plain": [
       "<matplotlib.legend.Legend at 0x1408a4a3040>"
      ]
     },
     "execution_count": 19,
     "metadata": {},
     "output_type": "execute_result"
    },
    {
     "data": {
      "image/png": "[encoded data removed]",
      "text/plain": [
       "<Figure size 432x288 with 1 Axes>"
      ]
     },
     "metadata": {
      "needs_background": "light"
     },
     "output_type": "display_data"
    }
   ],
   "source": [
    "#histogram\n",
    "plt.hist(sample, density=True, label='histogram')\n",
    "\n",
    "#teoretical pdf\n",
    "x = np.linspace(0, 10, 100)\n",
    "pdf = gamma.pdf(x)\n",
    "plt.plot(x, pdf, label='teoretical PDF')\n",
    "\n",
    "plt.legend(loc='upper right')\n"
   ]
  },
  {
   "cell_type": "markdown",
   "id": "f219e83d",
   "metadata": {},
   "source": [
    "## 2. Выборки обьема 5, 10 и 50"
   ]
  },
  {
   "cell_type": "markdown",
   "id": "ff03ff56",
   "metadata": {},
   "source": [
    "Сгенерируем массивы для 1000 выборок обьема 5, 10 и 50"
   ]
  },
  {
   "cell_type": "code",
   "execution_count": 17,
   "id": "a5cb2ab7",
   "metadata": {},
   "outputs": [],
   "source": [
    "arr_sample_5 = [gamma.rvs(5) for i in range(1000)]\n",
    "arr_sample_10 = [gamma.rvs(10) for i in range(1000)]\n",
    "arr_sample_50 = [gamma.rvs(50) for i in range(1000)]"
   ]
  },
  {
   "cell_type": "markdown",
   "id": "69942650",
   "metadata": {},
   "source": [
    "Рассчитаем теоретические математические ожидания и среднеквадратичные отклонения. \n",
    "Для Гамма распределения с парметром a"
   ]
  },
  {
   "cell_type": "markdown",
   "id": "c59c02f1",
   "metadata": {},
   "source": [
    "Математическое ожидание E = a = 2.5;"
   ]
  },
  {
   "cell_type": "markdown",
   "id": "bd15d078",
   "metadata": {},
   "source": [
    "Дисперсия D = a = 2.5; среднеквадратичное отклонение a^0.5"
   ]
  },
  {
   "cell_type": "markdown",
   "id": "a797925c",
   "metadata": {},
   "source": [
    "Тогда распределение выборочных средних оценивается нормальным распределением со средним a"
   ]
  },
  {
   "cell_type": "markdown",
   "id": "7ae16509",
   "metadata": {},
   "source": [
    "Среднеквадратичным отклонением "
   ]
  }
 ],
 "metadata": {
  "kernelspec": {
   "display_name": "Python 3.9.5 64-bit",
   "language": "python",
   "name": "python395jvsc74a57bd0e0c39c2aa61344fb27ff6fb4f3a259e590cdda2eaea03f0e509c852643cc86c0"
  },
  "language_info": {
   "codemirror_mode": {
    "name": "ipython",
    "version": 3
   },
   "file_extension": ".py",
   "mimetype": "text/x-python",
   "name": "python",
   "nbconvert_exporter": "python",
   "pygments_lexer": "ipython3",
   "version": "3.9.5"
  }
 },
 "nbformat": 4,
 "nbformat_minor": 5
}
