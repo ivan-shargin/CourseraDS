{
 "cells": [
  {
   "cell_type": "markdown",
   "id": "6af7d807",
   "metadata": {},
   "source": [
    "# First programming exersize, week 2"
   ]
  },
  {
   "cell_type": "markdown",
   "id": "29c71e0f",
   "metadata": {},
   "source": [
    "## Task 1"
   ]
  },
  {
   "cell_type": "code",
   "execution_count": null,
   "id": "f1e3a15c",
   "metadata": {},
   "outputs": [],
   "source": [
    "import re\n",
    "import numpy as np\n",
    "from scipy.spatial import distance\n",
    "\n",
    "with open(\"sentences.txt\", 'r') as file:\n",
    "    lines = file.readlines()\n",
    "\n",
    "for i in range(len(lines)):\n",
    "    lines[i] = lines[i].lower()"
   ]
  },
  {
   "cell_type": "code",
   "execution_count": null,
   "id": "26f7e9bb",
   "metadata": {},
   "outputs": [],
   "source": [
    "words_in_lines = [re.split('[^a-z]', line) for line in lines]\n",
    "#print(words)\n",
    "for i in range(len(words_in_lines)):\n",
    "    words_in_lines[i] = [word for word in words_in_lines[i] if word != '']\n",
    "\n",
    "words = [word for line in words_in_lines for word in line]"
   ]
  },
  {
   "cell_type": "code",
   "execution_count": null,
   "id": "8b198785",
   "metadata": {},
   "outputs": [],
   "source": [
    "set_of_words = set(words)\n",
    "number_of_words = len(set_of_words)\n",
    "\n",
    "dict_of_words = dict(zip(set_of_words, range(number_of_words)))"
   ]
  },
  {
   "cell_type": "code",
   "execution_count": 29,
   "id": "5fdc7423",
   "metadata": {},
   "outputs": [],
   "source": [
    "def count_words_frequencies(line): \n",
    "    return [line.count(word) for word in set_of_words]\n",
    "\n",
    "words_frequencies_in_lines = [count_words_frequencies(line) for line in words_in_lines]\n",
    "\n",
    "\n",
    "Matrix_of_wordsfrequences = np.array(words_frequencies_in_lines) \n"
   ]
  },
  {
   "cell_type": "code",
   "execution_count": 50,
   "id": "344f4683",
   "metadata": {},
   "outputs": [
    {
     "name": "stdout",
     "output_type": "stream",
     "text": [
      "[0.9527544408738466, 0.8644738145642124, 0.8951715163278082, 0.7770887149698589, 0.9402385695332803, 0.7327387580875756, 0.9258750683338899, 0.8842724875284311, 0.9055088817476932, 0.8328165362273942, 0.8804771390665607, 0.8396432548525454, 0.8703592552895671, 0.8740118423302576, 0.9442721787424647, 0.8406361854220809, 0.956644501523794, 0.9442721787424647, 0.8885443574849294, 0.8427572744917122, 0.8250364469440588]\n",
      "5\n",
      "3\n"
     ]
    }
   ],
   "source": [
    "first_line = Matrix_of_wordsfrequences[0, :]\n",
    "distances_from_1st_line = [distance.cosine(first_line, line) for line \n",
    "                           in Matrix_of_wordsfrequences]\n",
    "distances_from_1st_line.pop(0)\n",
    "print(distances_from_1st_line)\n",
    "\n",
    "\n",
    "closest_line = np.argmin(distances_from_1st_line)\n",
    "print(closest_line)\n",
    "distances_from_1st_line.pop(closest_line)\n",
    "\n",
    "closest_line_2nd = np.argmin(distances_from_1st_line)\n",
    "print(closest_line_2nd)"
   ]
  }
 ],
 "metadata": {
  "kernelspec": {
   "display_name": "Python 3.9.5 64-bit",
   "language": "python",
   "name": "python395jvsc74a57bd0e0c39c2aa61344fb27ff6fb4f3a259e590cdda2eaea03f0e509c852643cc86c0"
  },
  "language_info": {
   "codemirror_mode": {
    "name": "ipython",
    "version": 3
   },
   "file_extension": ".py",
   "mimetype": "text/x-python",
   "name": "python",
   "nbconvert_exporter": "python",
   "pygments_lexer": "ipython3",
   "version": "3.9.5"
  }
 },
 "nbformat": 4,
 "nbformat_minor": 5
}
