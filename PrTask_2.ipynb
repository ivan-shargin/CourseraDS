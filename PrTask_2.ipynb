{
 "cells": [
  {
   "cell_type": "markdown",
   "id": "c0603107",
   "metadata": {},
   "source": [
    "# Practical exersize. Week 3"
   ]
  },
  {
   "cell_type": "markdown",
   "id": "605616b4",
   "metadata": {},
   "source": [
    "## Task 1"
   ]
  },
  {
   "cell_type": "code",
   "execution_count": 26,
   "id": "c902f1af",
   "metadata": {},
   "outputs": [],
   "source": [
    "from scipy.optimize import minimize\n",
    "import numpy as np\n",
    "import matplotlib.pyplot as plt"
   ]
  },
  {
   "cell_type": "code",
   "execution_count": 84,
   "id": "4935611f",
   "metadata": {},
   "outputs": [
    {
     "name": "stdout",
     "output_type": "stream",
     "text": [
      "      fun: -11.898894665981313\n",
      " hess_inv: array([[1.67936744]])\n",
      "      jac: array([0.])\n",
      "  message: 'Optimization terminated successfully.'\n",
      "     nfev: 14\n",
      "      nit: 6\n",
      "     njev: 7\n",
      "   status: 0\n",
      "  success: True\n",
      "        x: array([25.88019321])\n",
      "answer = -11.9\n"
     ]
    }
   ],
   "source": [
    "def f(x):\n",
    "    return np.sin(x / 5.0) * np.exp(x / 10.0) + 5 * np.exp(-x / 2)\n",
    "x = np.arange(1, 30.01, 0.01)\n",
    "\n",
    "\n",
    "x0 = 30\n",
    "res = min_x = minimize(f, x0, method = 'BFGS')\n",
    "print(res)\n",
    "print(\"answer =\", np.round(res.fun, 2))"
   ]
  },
  {
   "cell_type": "code",
   "execution_count": 45,
   "id": "f518ff5e",
   "metadata": {},
   "outputs": [
    {
     "name": "stdout",
     "output_type": "stream",
     "text": [
      "      fun: 1.7452682903447336\n",
      " hess_inv: array([[5.98752645]])\n",
      "      jac: array([-2.04145908e-06])\n",
      "  message: 'Optimization terminated successfully.'\n",
      "     nfev: 14\n",
      "      nit: 6\n",
      "     njev: 7\n",
      "   status: 0\n",
      "  success: True\n",
      "        x: array([4.13627628])\n",
      "answer = 1.75\n"
     ]
    }
   ],
   "source": [
    "def f(x):\n",
    "    return np.sin(x / 5.0) * np.exp(x / 10.0) + 5 * np.exp(-x / 2)\n",
    "x = np.arange(1, 30.01, 0.01)\n",
    "\n",
    "x0 = 2\n",
    "res = min_x = minimize(f, x0, method = 'BFGS')\n",
    "print(res)\n",
    "print(\"answer =\", np.round(res.fun, 2))"
   ]
  },
  {
   "cell_type": "code",
   "execution_count": 23,
   "id": "2464d87d",
   "metadata": {},
   "outputs": [
    {
     "data": {
      "text/plain": [
       "[<matplotlib.lines.Line2D at 0x1d8cb598550>]"
      ]
     },
     "execution_count": 23,
     "metadata": {},
     "output_type": "execute_result"
    },
    {
     "data": {
      "image/png": "[encoded data removed]",
      "text/plain": [
       "<Figure size 432x288 with 1 Axes>"
      ]
     },
     "metadata": {
      "needs_background": "light"
     },
     "output_type": "display_data"
    }
   ],
   "source": [
    "plt.plot(x, f(x))"
   ]
  },
  {
   "cell_type": "markdown",
   "id": "ebce371c",
   "metadata": {},
   "source": [
    "## Task 2"
   ]
  },
  {
   "cell_type": "code",
   "execution_count": 59,
   "id": "a5caa7b8",
   "metadata": {},
   "outputs": [],
   "source": [
    "from scipy.optimize import differential_evolution\n",
    "\n",
    "res = differential_evolution(f, [(1, 30)])\n",
    "answer = np.round(res.fun[0], 2)\n",
    "\n",
    "\n",
    "\n",
    "with open(\"solution_week3_t2.txt\", 'w') as file:\n",
    "    file.write(str(answer))"
   ]
  },
  {
   "cell_type": "code",
   "execution_count": 60,
   "id": "d3e6ad16",
   "metadata": {},
   "outputs": [
    {
     "name": "stdout",
     "output_type": "stream",
     "text": [
      "Object ` file.write()` not found.\n"
     ]
    }
   ],
   "source": [
    "? file.write()"
   ]
  },
  {
   "cell_type": "markdown",
   "id": "b50e50b2",
   "metadata": {},
   "source": [
    "## Task3"
   ]
  },
  {
   "cell_type": "code",
   "execution_count": 92,
   "id": "9c3a68f2",
   "metadata": {},
   "outputs": [
    {
     "name": "stdout",
     "output_type": "stream",
     "text": [
      "      fun: -5\n",
      " hess_inv: array([[1]])\n",
      "      jac: array([0.])\n",
      "  message: 'Optimization terminated successfully.'\n",
      "     nfev: 2\n",
      "      nit: 0\n",
      "     njev: 1\n",
      "   status: 0\n",
      "  success: True\n",
      "        x: array([30.])\n"
     ]
    },
    {
     "data": {
      "image/png": "[encoded data removed]",
      "text/plain": [
       "<Figure size 432x288 with 1 Axes>"
      ]
     },
     "metadata": {
      "needs_background": "light"
     },
     "output_type": "display_data"
    }
   ],
   "source": [
    "def h(x):\n",
    "    return np.array([int(f(arg)) for arg in x])\n",
    "\n",
    "plt.plot(x, h(x))\n",
    "\n",
    "x0 = 30\n",
    "res = minimize(h, x0, method = 'BFGS')\n",
    "print(res)\n",
    "\n"
   ]
  },
  {
   "cell_type": "code",
   "execution_count": 93,
   "id": "9cb36ff1",
   "metadata": {},
   "outputs": [
    {
     "name": "stdout",
     "output_type": "stream",
     "text": [
      "     fun: -11.0\n",
      " message: 'Optimization terminated successfully.'\n",
      "    nfev: 77\n",
      "     nit: 4\n",
      " success: True\n",
      "       x: array([25.89752747])\n"
     ]
    }
   ],
   "source": [
    "res = differential_evolution(h, [(1, 30)])\n",
    "print(res)"
   ]
  }
 ],
 "metadata": {
  "kernelspec": {
   "display_name": "Python 3.9.5 64-bit",
   "language": "python",
   "name": "python395jvsc74a57bd0e0c39c2aa61344fb27ff6fb4f3a259e590cdda2eaea03f0e509c852643cc86c0"
  },
  "language_info": {
   "codemirror_mode": {
    "name": "ipython",
    "version": 3
   },
   "file_extension": ".py",
   "mimetype": "text/x-python",
   "name": "python",
   "nbconvert_exporter": "python",
   "pygments_lexer": "ipython3",
   "version": "3.9.5"
  }
 },
 "nbformat": 4,
 "nbformat_minor": 5
}
