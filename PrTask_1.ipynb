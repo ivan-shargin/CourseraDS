{
 "cells": [
  {
   "cell_type": "markdown",
   "id": "6af7d807",
   "metadata": {},
   "source": [
    "# First programming exersize, week 2"
   ]
  },
  {
   "cell_type": "markdown",
   "id": "29c71e0f",
   "metadata": {},
   "source": [
    "## Task 1"
   ]
  },
  {
   "cell_type": "code",
   "execution_count": 63,
   "id": "5fdc7423",
   "metadata": {},
   "outputs": [
    {
     "name": "stdout",
     "output_type": "stream",
     "text": [
      "{'terms': 0, 'was': 1, 'if': 2, 'when': 3, 'separate': 4, 'members': 5, 'lb': 6, 'installation': 7, 'later': 8, 'july': 9, 'releasing': 10, 'made': 11, 'roughly': 12, 'mac': 13, 'diploid': 14, 'patch': 15, 'lion': 16, 'will': 17, 'and': 18, 'need': 19, 'between': 20, 'learned': 21, 'other': 22, 'hear': 23, 'size': 24, 'an': 25, 'those': 26, 'too': 27, 'sequence': 28, 'predecessor': 29, 'three': 30, 'computers': 31, 'create': 32, 'files': 33, 'where': 34, 'two': 35, 'available': 36, 'x': 37, 'its': 38, 'undergone': 39, 'based': 40, 'comparison': 41, 'receives': 42, 'symbol': 43, 'linux': 44, 'version': 45, 'frequency': 46, 'editions': 47, 'world': 48, 'changes': 49, 'started': 50, 'common': 51, 'small': 52, 'more': 53, 'without': 54, 'intel': 55, 'mice': 56, 'weighing': 57, 'legibility': 58, 'domestication': 59, 'every': 60, 'for': 61, 'kg': 62, 'named': 63, 'apple': 64, 'however': 65, 'domesticated': 66, 'domestic': 67, 'dogs': 68, 'organisms': 69, 'off': 70, 'over': 71, 'be': 72, 'cat': 73, 'the': 74, 'run': 75, 'from': 76, 'felis': 77, 'single': 78, 'received': 79, 'running': 80, 'that': 81, 'to': 82, 'instead': 83, 'one': 84, 'permanently': 85, 'count': 86, 'safari': 87, 'are': 88, 'adjacent': 89, 'ancestor': 90, 'features': 91, 'their': 92, 'mavericks': 93, 'stdout': 94, 'content': 95, 'switch': 96, 'community': 97, 'fifth': 98, 'genus': 99, 'since': 100, 'installed': 101, 'concern': 102, 'entirely': 103, 'non': 104, 'you': 105, 'a': 106, 'during': 107, 'streams': 108, 'standard': 109, 'os': 110, 'stdin': 111, 'animals': 112, 'redirected': 113, 'second': 114, 'not': 115, 'allows': 116, 'released': 117, 'unnecessary': 118, 'online': 119, 'displays': 120, 'it': 121, 'commands': 122, 'most': 123, 'versions': 124, 'output': 125, 'now': 126, 'lines': 127, 'closest': 128, 'mountain': 129, 'often': 130, 'needing': 131, 'app': 132, 'or': 133, 'interactive': 134, 'according': 135, 's': 136, 'selection': 137, 'factory': 138, 'binary': 139, 'mid': 140, 'command': 141, 'place': 142, 'such': 143, 'use': 144, 'symbols': 145, 'so': 146, 'incremental': 147, 'moved': 148, 'release': 149, 'cats': 150, 'were': 151, 'as': 152, 'delete': 153, 'download': 154, 'yosemite': 155, 'catenates': 156, 'than': 157, 'artificial': 158, 'type': 159, 'default': 160, 'arguments': 161, 'concatenate': 162, 'safer': 163, 'some': 164, 'purchase': 165, 'simply': 166, 'developed': 167, 'can': 168, 'flow': 169, 'information': 170, 'connected': 171, 'tamed': 172, 'recent': 173, 'osx': 174, 'process': 175, 'new': 176, 'typically': 177, 'similar': 178, 'rather': 179, 'unix': 180, 'human': 181, 'starting': 182, 'clear': 183, 'no': 184, 'time': 185, 'any': 186, 'store': 187, 'faint': 188, 'pipes': 189, 'right': 190, 'which': 191, 'enhancements': 192, 'predators': 193, 'file': 194, 'contains': 195, 'is': 196, 'by': 197, 'possess': 198, 'they': 199, 'genes': 200, 'part': 201, 'piped': 202, 'external': 203, 'deliberately': 204, 'allow': 205, 'offered': 206, 'with': 207, 't': 208, 'upgrade': 209, 'disk': 210, 'wild': 211, 'won': 212, 'update': 213, 'in': 214, 'october': 215, 'longer': 216, 'ears': 217, 'basic': 218, 'bytes': 219, 'installs': 220, 'of': 221, 'both': 222, 'firmware': 223, 'successor': 224, 'sounds': 225, 'through': 226, 'has': 227, 'wrong': 228, 'have': 229, 'major': 230, 'keyboards': 231, 'also': 232, 'tiger': 233, 'left': 234, 'vermin': 235, 'year': 236, 'high': 237, 'processors': 238, 'people': 239, 'used': 240, 'read': 241, 'using': 242, 'error': 243, 'chromosomes': 244, 'marks': 245, 'useful': 246, 'releases': 247, 'redirection': 248, 'just': 249, 'may': 250, 'drive': 251, 'leopard': 252, 'on': 253}\n"
     ]
    }
   ],
   "source": [
    "import re\n",
    "\n",
    "with open(\"sentences.txt\", 'r') as file:\n",
    "    lines = file.readlines()\n",
    "\n",
    "for i in range(len(lines)):\n",
    "    lines[i] = lines[i].lower()\n",
    "\n",
    "words_in_lines = [re.split('[^a-z]', line) for line in lines]\n",
    "#print(words)\n",
    "for i in range(len(words_in_lines)):\n",
    "    words_in_lines[i] = [word for word in words_in_lines[i] if word != '']\n",
    "\n",
    "words = [word for line in words_in_lines for word in line]\n",
    "#print(words)\n",
    "\n",
    "set_of_words = set(words)\n",
    "len_set = len(set_of_words)\n",
    "\n",
    "dict_of_words = dict(zip(set_of_words, range(len_set)))\n",
    "print(dict_of_words)\n"
   ]
  }
 ],
 "metadata": {
  "kernelspec": {
   "display_name": "Python 3.9.5 64-bit",
   "language": "python",
   "name": "python395jvsc74a57bd0e0c39c2aa61344fb27ff6fb4f3a259e590cdda2eaea03f0e509c852643cc86c0"
  },
  "language_info": {
   "codemirror_mode": {
    "name": "ipython",
    "version": 3
   },
   "file_extension": ".py",
   "mimetype": "text/x-python",
   "name": "python",
   "nbconvert_exporter": "python",
   "pygments_lexer": "ipython3",
   "version": "3.9.5"
  }
 },
 "nbformat": 4,
 "nbformat_minor": 5
}
